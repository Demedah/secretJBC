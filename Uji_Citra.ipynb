{
  "cells": [
    {
      "cell_type": "code",
      "source": [
        "!python -m pip install opencv-python-headless"
      ],
      "metadata": {
        "colab": {
          "base_uri": "https://localhost:8080/"
        },
        "id": "DHrngSvlF_rC",
        "outputId": "4150fd33-be49-42f3-a3c0-676b94134dd1"
      },
      "execution_count": 32,
      "outputs": [
        {
          "output_type": "stream",
          "name": "stdout",
          "text": [
            "Requirement already satisfied: opencv-python-headless in /usr/local/lib/python3.11/dist-packages (4.12.0.88)\n",
            "Requirement already satisfied: numpy<2.3.0,>=2 in /usr/local/lib/python3.11/dist-packages (from opencv-python-headless) (2.0.2)\n"
          ]
        }
      ]
    },
    {
      "cell_type": "code",
      "source": [
        "import cv2\n",
        "import numpy as np\n",
        "\n",
        "print(\"OpenCV:\", cv2.__version__)\n",
        "print(\"NumPy:\", np.__version__)"
      ],
      "metadata": {
        "colab": {
          "base_uri": "https://localhost:8080/"
        },
        "id": "knFUagvKO4hj",
        "outputId": "2407e3fc-dd1a-471b-e024-40f2d8e13637"
      },
      "execution_count": 28,
      "outputs": [
        {
          "output_type": "stream",
          "name": "stdout",
          "text": [
            "OpenCV: 4.12.0\n",
            "NumPy: 2.0.2\n"
          ]
        }
      ]
    },
    {
      "cell_type": "markdown",
      "source": [
        "## Import Library"
      ],
      "metadata": {
        "id": "J0Ks3zg9A43c"
      }
    },
    {
      "cell_type": "code",
      "source": [
        "import os\n",
        "import cv2\n",
        "import numpy as np\n",
        "import pandas as pd\n",
        "import matplotlib.pyplot as plt\n",
        "import seaborn as sns\n",
        "from skimage.feature import graycomatrix, graycoprops\n",
        "from sklearn.ensemble import RandomForestClassifier\n",
        "from sklearn.metrics import classification_report, confusion_matrix, accuracy_score\n",
        "from sklearn.model_selection import train_test_split\n",
        "import tensorflow as tf\n",
        "from tensorflow.keras.preprocessing.image import ImageDataGenerator"
      ],
      "metadata": {
        "id": "C_aJlXclM11l"
      },
      "execution_count": 30,
      "outputs": []
    },
    {
      "cell_type": "markdown",
      "source": [
        "## Mount Data"
      ],
      "metadata": {
        "id": "pAZw0CPNA9fH"
      }
    },
    {
      "cell_type": "code",
      "source": [
        "#1. mount google\n",
        "from google.colab import drive\n",
        "drive.mount('/content/drive')\n"
      ],
      "metadata": {
        "colab": {
          "base_uri": "https://localhost:8080/"
        },
        "id": "kdk_s0Z5M1yd",
        "outputId": "b75e98be-5684-4879-8c45-cd25b521791b"
      },
      "execution_count": 4,
      "outputs": [
        {
          "output_type": "stream",
          "name": "stdout",
          "text": [
            "Mounted at /content/drive\n"
          ]
        }
      ]
    },
    {
      "cell_type": "markdown",
      "source": [
        "## Ekstraksi Fitur"
      ],
      "metadata": {
        "id": "kTQI3pYPBED_"
      }
    },
    {
      "cell_type": "code",
      "source": [
        "\n",
        "def ekstrak_fitur_gambar(img_input):\n",
        "    try:\n",
        "        # Cek tipe input\n",
        "        if isinstance(img_input, str):\n",
        "            img = cv2.imread(img_input)\n",
        "            if img is None:\n",
        "                print(f\"Error: Gambar tidak dapat dibaca dari path: {img_input}\")\n",
        "                return None\n",
        "        elif isinstance(img_input, np.ndarray):\n",
        "            img = img_input\n",
        "        else:\n",
        "            print(\"Error: Input harus berupa path string atau numpy array gambar.\") #takut lupa\n",
        "            return None\n",
        "\n",
        "        # Resize agar konsisten\n",
        "        if img.shape[0] != 128 or img.shape[1] != 128:\n",
        "            img = cv2.resize(img, (128, 128))\n",
        "\n",
        "        # Konversi ke grayscale\n",
        "        gray = cv2.cvtColor(img, cv2.COLOR_BGR2GRAY)\n",
        "\n",
        "        # ===== GLCM (Tekstur) =====\n",
        "        glcm = graycomatrix(gray, distances=[1], angles=[0], symmetric=True, normed=True)\n",
        "        contrast = graycoprops(glcm, 'contrast')[0, 0]\n",
        "        dissimilarity = graycoprops(glcm, 'dissimilarity')[0, 0]\n",
        "        homogeneity = graycoprops(glcm, 'homogeneity')[0, 0]\n",
        "        energy = graycoprops(glcm, 'energy')[0, 0]\n",
        "        correlation = graycoprops(glcm, 'correlation')[0, 0]\n",
        "\n",
        "        # ===== Histogram Warna =====\n",
        "        hist_b = cv2.calcHist([img], [0], None, [256], [0, 256]).flatten()\n",
        "        hist_g = cv2.calcHist([img], [1], None, [256], [0, 256]).flatten()\n",
        "        hist_r = cv2.calcHist([img], [2], None, [256], [0, 256]).flatten()\n",
        "\n",
        "        # Normalisasi histogram\n",
        "        hist_b = hist_b / hist_b.sum() if hist_b.sum() != 0 else hist_b\n",
        "        hist_g = hist_g / hist_g.sum() if hist_g.sum() != 0 else hist_g\n",
        "        hist_r = hist_r / hist_r.sum() if hist_r.sum() != 0 else hist_r\n",
        "        # Debugging: Print jumlah dari histograms\n",
        "       # print(f\"Debug: jumlah histograms: B={hist_b.sum()}, G={hist_g.sum()}, R={hist_r.sum()}\")\n",
        "\n",
        "        fitur_hist = np.hstack([hist_b, hist_g, hist_r])\n",
        "\n",
        "        # Gabung semua fitur\n",
        "        fitur = np.hstack([contrast, dissimilarity, homogeneity, energy, correlation, fitur_hist])\n",
        "        return fitur\n",
        "    except Exception as e:\n",
        "        print(f\"Error ekstrak fitur: {e}\")\n",
        "        return None"
      ],
      "metadata": {
        "id": "Z8mVc-DqZrxu"
      },
      "execution_count": 5,
      "outputs": []
    },
    {
      "cell_type": "markdown",
      "source": [
        "## Load Data"
      ],
      "metadata": {
        "id": "E9rAPpxJDSh7"
      }
    },
    {
      "cell_type": "code",
      "source": [
        "# ====== 1) Path Dataset ======\n",
        "csv_path = \"/content/drive/MyDrive/A Skripsi/CSV/databaseJBC.csv\"\n",
        "image_dir = \"/content/drive/MyDrive/A Skripsi/Extraksi\"\n",
        "\n",
        "df = pd.read_csv(csv_path)\n",
        "\n",
        "X = []\n",
        "y = []\n",
        "\n",
        "for idx, row in df.iterrows():\n",
        "    if pd.isna(row[\"FotoCS\"]):\n",
        "        print(f\"Nama File tidak valid pada indeks {idx}.\")\n",
        "        continue\n",
        "\n",
        "    img_path = os.path.join(image_dir, row[\"FotoCS\"])\n",
        "    if os.path.exists(img_path):\n",
        "        fitur = ekstrak_fitur_gambar(img_path)  # lewat img_path daripada img\n",
        "        if fitur is not None:\n",
        "            X.append(fitur)\n",
        "            y.append(row[\"Tekstur Kulit\"])\n",
        "    else:\n",
        "        print(f\"File tidak ditemukan: {img_path}\") # Print the constructed path to help debugging\n",
        "X = np.array(X)\n",
        "y = np.array(y)\n",
        "print(f\"Jumlah data asli: {len(X)}\")"
      ],
      "metadata": {
        "colab": {
          "base_uri": "https://localhost:8080/"
        },
        "id": "6MMFtjFmM1tC",
        "outputId": "dd088af4-aa9d-4218-a545-be1c6236cd00"
      },
      "execution_count": 7,
      "outputs": [
        {
          "output_type": "stream",
          "name": "stdout",
          "text": [
            "File tidak ditemukan: /content/drive/MyDrive/A Skripsi/Extraksi/1755069446507.jpg\n",
            "Jumlah data asli: 312\n"
          ]
        }
      ]
    },
    {
      "cell_type": "code",
      "source": [
        "df = pd.read_csv(csv_path)\n",
        "print(df.head())"
      ],
      "metadata": {
        "id": "78Qhez7jUMJT",
        "outputId": "a30c16a8-3499-4468-988e-a0f2988c4a74",
        "colab": {
          "base_uri": "https://localhost:8080/"
        }
      },
      "execution_count": 8,
      "outputs": [
        {
          "output_type": "stream",
          "name": "stdout",
          "text": [
            "              FotoCS  Ukuran (KB) Tipe File  \\\n",
            "0  1755069443238.jpg    85.176758      .jpg   \n",
            "1  1755069443257.jpg   103.005859      .jpg   \n",
            "2  1755069443274.jpg   105.710938      .jpg   \n",
            "3  1755069443293.jpg    90.321289      .jpg   \n",
            "4  1755069443311.jpg    92.083008      .jpg   \n",
            "\n",
            "                                      pixel_features  kadar minyak  kadar air  \\\n",
            "0  [49, 48, 46, 48, 46, 45, 48, 46, 46, 43, 43, 4...          0.60       0.35   \n",
            "1  [255, 255, 254, 253, 253, 252, 250, 250, 245, ...          0.30       0.65   \n",
            "2  [193, 162, 123, 194, 162, 123, 196, 164, 125, ...          0.30       0.65   \n",
            "3  [197, 200, 204, 201, 202, 206, 203, 204, 208, ...          0.55       0.40   \n",
            "4  [248, 248, 245, 255, 255, 255, 255, 255, 255, ...          0.55       0.40   \n",
            "\n",
            "  ukuran pori Tekstur Kulit  \n",
            "0      sedang        normal  \n",
            "1       kecil           dry  \n",
            "2       kecil           dry  \n",
            "3      sedang        normal  \n",
            "4      sedang        normal  \n"
          ]
        }
      ]
    },
    {
      "cell_type": "markdown",
      "source": [
        "## Split Data & Latih Model Sebelum Augmentasi"
      ],
      "metadata": {
        "id": "sknNkAjrDxHe"
      }
    },
    {
      "cell_type": "code",
      "source": [
        "if len(X) == 0:\n",
        "    print(\"Error: tidak ada data, cek lagi.\")\n",
        "else:\n",
        "    X_train, X_test, y_train, y_test = train_test_split(X, y, test_size=0.2, random_state=42) #Dibagi datanya\n",
        "\n",
        "    model_before = RandomForestClassifier(n_estimators=100, random_state=42)\n",
        "    model_before.fit(X_train, y_train)\n",
        "    y_pred_before = model_before.predict(X_test)\n",
        "    acc_before = accuracy_score(y_test, y_pred_before)\n",
        "\n",
        "    print(\"Akurasi Sebelum Augmentasi:\", acc_before)\n",
        "\n",
        "    print(\"\\n=== Classification Report (Sebelum Augmentasi) ===\")\n",
        "    print(classification_report(y_test, y_pred_before))\n",
        "\n",
        "    cm_before = confusion_matrix(y_test, y_pred_before)\n",
        "    sns.heatmap(cm_before, annot=True, fmt=\"d\", cmap=\"Blues\")\n",
        "    plt.title(\"Confusion Matrix - Sebelum Augmentasi\")\n",
        "    plt.xlabel(\"Predicted\")\n",
        "    plt.ylabel(\"Actual\") # missing ylabel\n",
        "    plt.show()"
      ],
      "metadata": {
        "colab": {
          "base_uri": "https://localhost:8080/",
          "height": 698
        },
        "id": "oQvtAvKBM1qH",
        "outputId": "594828a2-2223-443a-a031-20e492eb62fe"
      },
      "execution_count": 9,
      "outputs": [
        {
          "output_type": "stream",
          "name": "stdout",
          "text": [
            "Akurasi Sebelum Augmentasi: 0.36507936507936506\n",
            "\n",
            "=== Classification Report (Sebelum Augmentasi) ===\n",
            "              precision    recall  f1-score   support\n",
            "\n",
            "         dry       0.28      0.31      0.29        16\n",
            "      normal       0.00      0.00      0.00        20\n",
            "        oily       0.42      0.67      0.51        27\n",
            "\n",
            "    accuracy                           0.37        63\n",
            "   macro avg       0.23      0.33      0.27        63\n",
            "weighted avg       0.25      0.37      0.30        63\n",
            "\n"
          ]
        },
        {
          "output_type": "display_data",
          "data": {
            "text/plain": [
              "<Figure size 640x480 with 2 Axes>"
            ],
            "image/png": "[encoded data removed]"
          },
          "metadata": {}
        }
      ]
    },
    {
      "cell_type": "markdown",
      "source": [
        "\n",
        "## Data Augmentasi\n",
        "karena akurasi sangat rendah, jadi kita augmentasi dengan  transformasi seperti rotasi sebesar 15°, pergeseran horizontal dan vertikal sebesar 10%, zoom 10%, dan pembalikan horizontal."
      ],
      "metadata": {
        "id": "yeWo1radEC7f"
      }
    },
    {
      "cell_type": "code",
      "source": [
        "datagen = ImageDataGenerator(\n",
        "    rotation_range=15,\n",
        "    width_shift_range=0.1,\n",
        "    height_shift_range=0.1,\n",
        "    zoom_range=0.1,\n",
        "    horizontal_flip=True\n",
        ")\n",
        "\n",
        "X_aug = []\n",
        "y_aug = []\n",
        "\n",
        "for idx, row in df.iterrows():\n",
        "    img_path = os.path.join(image_dir, row[\"FotoCS\"])\n",
        "    if os.path.exists(img_path):\n",
        "        img = cv2.imread(img_path)\n",
        "        if img is None:\n",
        "            print(f\"Peringatan: Tidak dapat membaca file gambar pada {img_path}\")\n",
        "            continue\n",
        "        img = cv2.resize(img, (128, 128))\n",
        "        img = np.expand_dims(img, 0)  # Tambah dimensi batch\n",
        "\n",
        "        # Generate beberapa gambar augmentasi\n",
        "        aug_iter = datagen.flow(img, batch_size=1)\n",
        "        for _ in range(2):  # jumlah augmentasi per gambar\n",
        "            aug_img = next(aug_iter)[0].astype(np.uint8)\n",
        "            fitur = ekstrak_fitur_gambar(aug_img)\n",
        "            if fitur is not None:\n",
        "                X_aug.append(fitur)\n",
        "                y_aug.append(row[\"Tekstur Kulit\"])\n",
        "        else:\n",
        "             # Original image features\n",
        "             fitur = ekstrak_fitur_gambar(img[0]) # Extract features dari original image\n",
        "             if fitur is not None:\n",
        "                X_aug.append(fitur)\n",
        "                y_aug.append(row[\"Tekstur Kulit\"])\n",
        "\n",
        "\n",
        "\n",
        "\n",
        "# Gabungkan data asli + augmentasi\n",
        "X_total = np.vstack([X, X_aug])\n",
        "y_total = np.hstack([y, y_aug])\n",
        "\n",
        "print(f\"Jumlah data setelah augmentasi: {len(X_total)}\")\n"
      ],
      "metadata": {
        "colab": {
          "base_uri": "https://localhost:8080/"
        },
        "id": "AAERVn-VM1nX",
        "outputId": "3267a51f-e176-49b0-e571-d7731cc470fd"
      },
      "execution_count": 10,
      "outputs": [
        {
          "output_type": "stream",
          "name": "stdout",
          "text": [
            "Jumlah data setelah augmentasi: 1248\n"
          ]
        }
      ]
    },
    {
      "cell_type": "markdown",
      "source": [
        "##Latih Model Sesudah Augmentasi"
      ],
      "metadata": {
        "id": "1YxPaMt_FS6n"
      }
    },
    {
      "cell_type": "code",
      "source": [
        "X_train_aug, X_test_aug, y_train_aug, y_test_aug = train_test_split(\n",
        "    X_total, y_total, test_size=0.2, random_state=42\n",
        ")\n",
        "\n",
        "model_after = RandomForestClassifier(n_estimators=100, random_state=42)\n",
        "model_after.fit(X_train_aug, y_train_aug)\n",
        "y_pred_after = model_after.predict(X_test_aug)\n",
        "acc_after = accuracy_score(y_test_aug, y_pred_after)\n",
        "\n",
        "print(\"Akurasi Setelah Augmentasi:\", acc_after)\n",
        "\n",
        "print(\"\\n=== Classification Report (Setelah Augmentasi) ===\")\n",
        "print(classification_report(y_test_aug, y_pred_after))\n",
        "\n",
        "cm_after = confusion_matrix(y_test_aug, y_pred_after)\n",
        "sns.heatmap(cm_after, annot=True, fmt=\"d\", cmap=\"Greens\")\n",
        "plt.title(\"Confusion Matrix - Setelah Augmentasi\")\n",
        "plt.xlabel(\"Predicted\")\n",
        "plt.ylabel(\"Actual\")\n",
        "plt.show()"
      ],
      "metadata": {
        "colab": {
          "base_uri": "https://localhost:8080/",
          "height": 698
        },
        "id": "YbFjfxvAM1ko",
        "outputId": "3c28a8b5-6944-464b-b0d0-62888dc84534"
      },
      "execution_count": 11,
      "outputs": [
        {
          "output_type": "stream",
          "name": "stdout",
          "text": [
            "Akurasi Setelah Augmentasi: 0.88\n",
            "\n",
            "=== Classification Report (Setelah Augmentasi) ===\n",
            "              precision    recall  f1-score   support\n",
            "\n",
            "         dry       0.93      0.82      0.87        87\n",
            "      normal       0.84      0.90      0.87        62\n",
            "        oily       0.87      0.92      0.89       101\n",
            "\n",
            "    accuracy                           0.88       250\n",
            "   macro avg       0.88      0.88      0.88       250\n",
            "weighted avg       0.88      0.88      0.88       250\n",
            "\n"
          ]
        },
        {
          "output_type": "display_data",
          "data": {
            "text/plain": [
              "<Figure size 640x480 with 2 Axes>"
            ],
            "image/png": "[encoded data removed]"
          },
          "metadata": {}
        }
      ]
    },
    {
      "cell_type": "markdown",
      "source": [
        "## Visualisasi Perbandingan Akurasi"
      ],
      "metadata": {
        "id": "bMHkwsG2Fd3s"
      }
    },
    {
      "cell_type": "code",
      "source": [
        "acc_values = [acc_before, acc_after]\n",
        "labels = [\"Sebelum\", \"Sesudah\"]\n",
        "colors = [\"red\", \"green\"]\n",
        "\n",
        "plt.bar(labels, acc_values, color=colors)\n",
        "plt.ylabel(\"Akurasi\")\n",
        "plt.title(\"Perbandingan Akurasi Sebelum & Sesudah Augmentasi\")\n",
        "plt.ylim(0, 1)\n",
        "\n",
        "# Angka persentasenya\n",
        "for i, v in enumerate(acc_values):\n",
        "    plt.text(i, v + 0.02, f\"{v*100:.2f}%\", ha='center', fontweight='bold')\n",
        "\n",
        "plt.show()\n"
      ],
      "metadata": {
        "colab": {
          "base_uri": "https://localhost:8080/",
          "height": 452
        },
        "id": "3ZLokh5nM1ho",
        "outputId": "a5607ed4-d4d8-4385-941c-06910aad6aca"
      },
      "execution_count": 12,
      "outputs": [
        {
          "output_type": "display_data",
          "data": {
            "text/plain": [
              "<Figure size 640x480 with 1 Axes>"
            ],
            "image/png": "[encoded data removed]"
          },
          "metadata": {}
        }
      ]
    },
    {
      "cell_type": "markdown",
      "source": [
        "## Simpan Akurasi"
      ],
      "metadata": {
        "id": "1uEKEIMFUEzd"
      }
    },
    {
      "cell_type": "code",
      "source": [
        "accuracy_results = {\n",
        "    \"Tanpa Augmentasi\": acc_before,\n",
        "    \"Dengan Augmentasi\": acc_after\n",
        "}\n",
        "\n",
        "print(\"\\nSaved Accuracy Results:\")\n",
        "print(accuracy_results)"
      ],
      "metadata": {
        "colab": {
          "base_uri": "https://localhost:8080/"
        },
        "id": "RzlEuwAeTW4C",
        "outputId": "257619c1-662f-4d78-e78a-94c3aac99958"
      },
      "execution_count": 13,
      "outputs": [
        {
          "output_type": "stream",
          "name": "stdout",
          "text": [
            "\n",
            "Saved Accuracy Results:\n",
            "{'Tanpa Augmentasi': 0.36507936507936506, 'Dengan Augmentasi': 0.88}\n"
          ]
        }
      ]
    },
    {
      "cell_type": "markdown",
      "source": [
        "## Uji coba dengan citra baru"
      ],
      "metadata": {
        "id": "uG2LeZrHFmcV"
      }
    },
    {
      "cell_type": "code",
      "source": [
        "# UJi COBA 1\n",
        "from google.colab import files\n",
        "import os\n",
        "import cv2\n",
        "from sklearn.preprocessing import LabelEncoder\n",
        "import numpy as np\n",
        "\n",
        "# Pastikan LabelEncoder sudah diinisialisasi dan di-fit dengan semua label yang ada\n",
        "# Lakukan fitting encoder dengan semua label unik dari data pelatihan\n",
        "le = LabelEncoder()\n",
        "le.fit(y_total)\n",
        "\n",
        "print(f\"UPLOAD FOTO ANDA DISINI\")\n",
        "print(f\"UNTUK MENENTUKAN JENIS KULIT: {np.unique(y_total)}\")\n",
        "\n",
        "uploaded = files.upload()\n",
        "\n",
        "for fn in uploaded.keys():\n",
        "    print(f'\\nUser mengunggah file \"{fn}\" ({len(uploaded[fn])} bytes)')\n",
        "\n",
        "    # Simpan file yang diunggah ke lokasi sementara\n",
        "    temp_new_image_path = f\"/tmp/{fn}\"\n",
        "    with open(temp_new_image_path, 'wb') as f:\n",
        "        f.write(uploaded[fn])\n",
        "\n",
        "    # Ekstrak fitur dari foto baru\n",
        "    # Gunakan fungsi yang menerima path sebagai input\n",
        "    new_image_features = ekstrak_fitur_gambar(temp_new_image_path)\n",
        "\n",
        "    # Hapus file sementara\n",
        "    os.remove(temp_new_image_path)\n",
        "\n",
        "    if new_image_features is not None:\n",
        "        # Ubah bentuk fitur agar sesuai dengan input model (1 sampel, banyak fitur)\n",
        "        new_image_features = new_image_features.reshape(1, -1)\n",
        "\n",
        "        # Prediksi label menggunakan model_after (model setelah augmentasi)\n",
        "        # RandomForestClassifier.predict() langsung mengembalikan label kelas yang diprediksi (string)\n",
        "        predicted_label = model_after.predict(new_image_features)[0]  # Ambil satu label prediksi\n",
        "\n",
        "        # Prediksi probabilitas\n",
        "        prediction_probabilities = model_after.predict_proba(new_image_features)[0]\n",
        "\n",
        "        print(f\"Hasil prediksi jenis kulit: **{predicted_label}**\")  # Gunakan label prediksi langsung\n",
        "        print(\"Probabilitas:\")\n",
        "        # Urutkan probabilitas berdasarkan nama kelas agar output konsisten\n",
        "        sorted_classes = sorted(zip(le.classes_, prediction_probabilities), key=lambda x: x[0])\n",
        "        for class_name, prob in sorted_classes:\n",
        "             print(f\"- {class_name}: {prob:.2f}\")\n",
        "\n",
        "    else:\n",
        "        print(f\"Gagal mengekstrak fitur dari foto '{fn}'. Pastikan file adalah gambar yang valid.\")\n"
      ],
      "metadata": {
        "colab": {
          "base_uri": "https://localhost:8080/",
          "height": 229
        },
        "id": "OCgiji3qGP8H",
        "outputId": "3fe4104d-5ce2-49a6-dd0a-10184b86bf7d"
      },
      "execution_count": 14,
      "outputs": [
        {
          "output_type": "stream",
          "name": "stdout",
          "text": [
            "UPLOAD FOTO ANDA DISINI\n",
            "UNTUK MENENTUKAN JENIS KULIT: ['dry' 'normal' 'oily']\n"
          ]
        },
        {
          "output_type": "display_data",
          "data": {
            "text/plain": [
              "<IPython.core.display.HTML object>"
            ],
            "text/html": [
              "\n",
              "     <input type=\"file\" id=\"files-4741a163-250c-4cec-af95-9eb13652bb50\" name=\"files[]\" multiple disabled\n",
              "        style=\"border:none\" />\n",
              "     <output id=\"result-4741a163-250c-4cec-af95-9eb13652bb50\">\n",
              "      Upload widget is only available when the cell has been executed in the\n",
              "      current browser session. Please rerun this cell to enable.\n",
              "      </output>\n",
              "      <script>// Copyright 2017 Google LLC\n",
              "//\n",
              "// Licensed under the Apache License, Version 2.0 (the \"License\");\n",
              "// you may not use this file except in compliance with the License.\n",
              "// You may obtain a copy of the License at\n",
              "//\n",
              "//      http://www.apache.org/licenses/LICENSE-2.0\n",
              "//\n",
              "// Unless required by applicable law or agreed to in writing, software\n",
              "// distributed under the License is distributed on an \"AS IS\" BASIS,\n",
              "// WITHOUT WARRANTIES OR CONDITIONS OF ANY KIND, either express or implied.\n",
              "// See the License for the specific language governing permissions and\n",
              "// limitations under the License.\n",
              "\n",
              "/**\n",
              " * @fileoverview Helpers for google.colab Python module.\n",
              " */\n",
              "(function(scope) {\n",
              "function span(text, styleAttributes = {}) {\n",
              "  const element = document.createElement('span');\n",
              "  element.textContent = text;\n",
              "  for (const key of Object.keys(styleAttributes)) {\n",
              "    element.style[key] = styleAttributes[key];\n",
              "  }\n",
              "  return element;\n",
              "}\n",
              "\n",
              "// Max number of bytes which will be uploaded at a time.\n",
              "const MAX_PAYLOAD_SIZE = 100 * 1024;\n",
              "\n",
              "function _uploadFiles(inputId, outputId) {\n",
              "  const steps = uploadFilesStep(inputId, outputId);\n",
              "  const outputElement = document.getElementById(outputId);\n",
              "  // Cache steps on the outputElement to make it available for the next call\n",
              "  // to uploadFilesContinue from Python.\n",
              "  outputElement.steps = steps;\n",
              "\n",
              "  return _uploadFilesContinue(outputId);\n",
              "}\n",
              "\n",
              "// This is roughly an async generator (not supported in the browser yet),\n",
              "// where there are multiple asynchronous steps and the Python side is going\n",
              "// to poll for completion of each step.\n",
              "// This uses a Promise to block the python side on completion of each step,\n",
              "// then passes the result of the previous step as the input to the next step.\n",
              "function _uploadFilesContinue(outputId) {\n",
              "  const outputElement = document.getElementById(outputId);\n",
              "  const steps = outputElement.steps;\n",
              "\n",
              "  const next = steps.next(outputElement.lastPromiseValue);\n",
              "  return Promise.resolve(next.value.promise).then((value) => {\n",
              "    // Cache the last promise value to make it available to the next\n",
              "    // step of the generator.\n",
              "    outputElement.lastPromiseValue = value;\n",
              "    return next.value.response;\n",
              "  });\n",
              "}\n",
              "\n",
              "/**\n",
              " * Generator function which is called between each async step of the upload\n",
              " * process.\n",
              " * @param {string} inputId Element ID of the input file picker element.\n",
              " * @param {string} outputId Element ID of the output display.\n",
              " * @return {!Iterable<!Object>} Iterable of next steps.\n",
              " */\n",
              "function* uploadFilesStep(inputId, outputId) {\n",
              "  const inputElement = document.getElementById(inputId);\n",
              "  inputElement.disabled = false;\n",
              "\n",
              "  const outputElement = document.getElementById(outputId);\n",
              "  outputElement.innerHTML = '';\n",
              "\n",
              "  const pickedPromise = new Promise((resolve) => {\n",
              "    inputElement.addEventListener('change', (e) => {\n",
              "      resolve(e.target.files);\n",
              "    });\n",
              "  });\n",
              "\n",
              "  const cancel = document.createElement('button');\n",
              "  inputElement.parentElement.appendChild(cancel);\n",
              "  cancel.textContent = 'Cancel upload';\n",
              "  const cancelPromise = new Promise((resolve) => {\n",
              "    cancel.onclick = () => {\n",
              "      resolve(null);\n",
              "    };\n",
              "  });\n",
              "\n",
              "  // Wait for the user to pick the files.\n",
              "  const files = yield {\n",
              "    promise: Promise.race([pickedPromise, cancelPromise]),\n",
              "    response: {\n",
              "      action: 'starting',\n",
              "    }\n",
              "  };\n",
              "\n",
              "  cancel.remove();\n",
              "\n",
              "  // Disable the input element since further picks are not allowed.\n",
              "  inputElement.disabled = true;\n",
              "\n",
              "  if (!files) {\n",
              "    return {\n",
              "      response: {\n",
              "        action: 'complete',\n",
              "      }\n",
              "    };\n",
              "  }\n",
              "\n",
              "  for (const file of files) {\n",
              "    const li = document.createElement('li');\n",
              "    li.append(span(file.name, {fontWeight: 'bold'}));\n",
              "    li.append(span(\n",
              "        `(${file.type || 'n/a'}) - ${file.size} bytes, ` +\n",
              "        `last modified: ${\n",
              "            file.lastModifiedDate ? file.lastModifiedDate.toLocaleDateString() :\n",
              "                                    'n/a'} - `));\n",
              "    const percent = span('0% done');\n",
              "    li.appendChild(percent);\n",
              "\n",
              "    outputElement.appendChild(li);\n",
              "\n",
              "    const fileDataPromise = new Promise((resolve) => {\n",
              "      const reader = new FileReader();\n",
              "      reader.onload = (e) => {\n",
              "        resolve(e.target.result);\n",
              "      };\n",
              "      reader.readAsArrayBuffer(file);\n",
              "    });\n",
              "    // Wait for the data to be ready.\n",
              "    let fileData = yield {\n",
              "      promise: fileDataPromise,\n",
              "      response: {\n",
              "        action: 'continue',\n",
              "      }\n",
              "    };\n",
              "\n",
              "    // Use a chunked sending to avoid message size limits. See b/62115660.\n",
              "    let position = 0;\n",
              "    do {\n",
              "      const length = Math.min(fileData.byteLength - position, MAX_PAYLOAD_SIZE);\n",
              "      const chunk = new Uint8Array(fileData, position, length);\n",
              "      position += length;\n",
              "\n",
              "      const base64 = btoa(String.fromCharCode.apply(null, chunk));\n",
              "      yield {\n",
              "        response: {\n",
              "          action: 'append',\n",
              "          file: file.name,\n",
              "          data: base64,\n",
              "        },\n",
              "      };\n",
              "\n",
              "      let percentDone = fileData.byteLength === 0 ?\n",
              "          100 :\n",
              "          Math.round((position / fileData.byteLength) * 100);\n",
              "      percent.textContent = `${percentDone}% done`;\n",
              "\n",
              "    } while (position < fileData.byteLength);\n",
              "  }\n",
              "\n",
              "  // All done.\n",
              "  yield {\n",
              "    response: {\n",
              "      action: 'complete',\n",
              "    }\n",
              "  };\n",
              "}\n",
              "\n",
              "scope.google = scope.google || {};\n",
              "scope.google.colab = scope.google.colab || {};\n",
              "scope.google.colab._files = {\n",
              "  _uploadFiles,\n",
              "  _uploadFilesContinue,\n",
              "};\n",
              "})(self);\n",
              "</script> "
            ]
          },
          "metadata": {}
        },
        {
          "output_type": "stream",
          "name": "stdout",
          "text": [
            "Saving 6087071821238225109.jpg to 6087071821238225109.jpg\n",
            "\n",
            "User mengunggah file \"6087071821238225109.jpg\" (73639 bytes)\n",
            "Hasil prediksi jenis kulit: **oily**\n",
            "Probabilitas:\n",
            "- dry: 0.36\n",
            "- normal: 0.17\n",
            "- oily: 0.47\n"
          ]
        }
      ]
    },
    {
      "cell_type": "code",
      "source": [
        "# UJi COBA 2\n",
        "from google.colab import files\n",
        "import os\n",
        "import cv2\n",
        "from sklearn.preprocessing import LabelEncoder\n",
        "import numpy as np\n",
        "\n",
        "# Pastikan LabelEncoder sudah diinisialisasi dan di-fit dengan semua label yang ada\n",
        "# Lakukan fitting encoder dengan semua label unik dari data pelatihan\n",
        "le = LabelEncoder()\n",
        "le.fit(y_total)\n",
        "\n",
        "print(f\"UPLOAD FOTO ANDA DISINI\")\n",
        "print(f\"UNTUK MENENTUKAN JENIS KULIT: {np.unique(y_total)}\")\n",
        "\n",
        "uploaded = files.upload()\n",
        "\n",
        "for fn in uploaded.keys():\n",
        "    print(f'\\nUser mengunggah file \"{fn}\" ({len(uploaded[fn])} bytes)')\n",
        "\n",
        "    # Simpan file yang diunggah ke lokasi sementara\n",
        "    temp_new_image_path = f\"/tmp/{fn}\"\n",
        "    with open(temp_new_image_path, 'wb') as f:\n",
        "        f.write(uploaded[fn])\n",
        "\n",
        "    # Ekstrak fitur dari foto baru\n",
        "    # Gunakan fungsi yang menerima path sebagai input\n",
        "    new_image_features = ekstrak_fitur_gambar(temp_new_image_path)\n",
        "\n",
        "    # Hapus file sementara\n",
        "    os.remove(temp_new_image_path)\n",
        "\n",
        "    if new_image_features is not None:\n",
        "        # Ubah bentuk fitur agar sesuai dengan input model (1 sampel, banyak fitur)\n",
        "        new_image_features = new_image_features.reshape(1, -1)\n",
        "\n",
        "        # Prediksi label menggunakan model_after (model setelah augmentasi)\n",
        "        # RandomForestClassifier.predict() langsung mengembalikan label kelas yang diprediksi (string)\n",
        "        predicted_label = model_after.predict(new_image_features)[0]  # Ambil satu label prediksi\n",
        "\n",
        "        # Prediksi probabilitas\n",
        "        prediction_probabilities = model_after.predict_proba(new_image_features)[0]\n",
        "\n",
        "        print(f\"Hasil prediksi jenis kulit: **{predicted_label}**\")  # Gunakan label prediksi langsung\n",
        "        print(\"Probabilitas:\")\n",
        "        # Urutkan probabilitas berdasarkan nama kelas agar output konsisten\n",
        "        sorted_classes = sorted(zip(le.classes_, prediction_probabilities), key=lambda x: x[0])\n",
        "        for class_name, prob in sorted_classes:\n",
        "             print(f\"- {class_name}: {prob:.2f}\")\n",
        "\n",
        "    else:\n",
        "        print(f\"Gagal mengekstrak fitur dari foto '{fn}'. Pastikan file adalah gambar yang valid.\")\n"
      ],
      "metadata": {
        "colab": {
          "base_uri": "https://localhost:8080/",
          "height": 229
        },
        "id": "sqNciXzeGolk",
        "outputId": "b140579a-6a6f-4bec-a199-0c86cb4c41b1"
      },
      "execution_count": 15,
      "outputs": [
        {
          "output_type": "stream",
          "name": "stdout",
          "text": [
            "UPLOAD FOTO ANDA DISINI\n",
            "UNTUK MENENTUKAN JENIS KULIT: ['dry' 'normal' 'oily']\n"
          ]
        },
        {
          "output_type": "display_data",
          "data": {
            "text/plain": [
              "<IPython.core.display.HTML object>"
            ],
            "text/html": [
              "\n",
              "     <input type=\"file\" id=\"files-5b641d53-6cc9-4650-a877-75c730e81a8e\" name=\"files[]\" multiple disabled\n",
              "        style=\"border:none\" />\n",
              "     <output id=\"result-5b641d53-6cc9-4650-a877-75c730e81a8e\">\n",
              "      Upload widget is only available when the cell has been executed in the\n",
              "      current browser session. Please rerun this cell to enable.\n",
              "      </output>\n",
              "      <script>// Copyright 2017 Google LLC\n",
              "//\n",
              "// Licensed under the Apache License, Version 2.0 (the \"License\");\n",
              "// you may not use this file except in compliance with the License.\n",
              "// You may obtain a copy of the License at\n",
              "//\n",
              "//      http://www.apache.org/licenses/LICENSE-2.0\n",
              "//\n",
              "// Unless required by applicable law or agreed to in writing, software\n",
              "// distributed under the License is distributed on an \"AS IS\" BASIS,\n",
              "// WITHOUT WARRANTIES OR CONDITIONS OF ANY KIND, either express or implied.\n",
              "// See the License for the specific language governing permissions and\n",
              "// limitations under the License.\n",
              "\n",
              "/**\n",
              " * @fileoverview Helpers for google.colab Python module.\n",
              " */\n",
              "(function(scope) {\n",
              "function span(text, styleAttributes = {}) {\n",
              "  const element = document.createElement('span');\n",
              "  element.textContent = text;\n",
              "  for (const key of Object.keys(styleAttributes)) {\n",
              "    element.style[key] = styleAttributes[key];\n",
              "  }\n",
              "  return element;\n",
              "}\n",
              "\n",
              "// Max number of bytes which will be uploaded at a time.\n",
              "const MAX_PAYLOAD_SIZE = 100 * 1024;\n",
              "\n",
              "function _uploadFiles(inputId, outputId) {\n",
              "  const steps = uploadFilesStep(inputId, outputId);\n",
              "  const outputElement = document.getElementById(outputId);\n",
              "  // Cache steps on the outputElement to make it available for the next call\n",
              "  // to uploadFilesContinue from Python.\n",
              "  outputElement.steps = steps;\n",
              "\n",
              "  return _uploadFilesContinue(outputId);\n",
              "}\n",
              "\n",
              "// This is roughly an async generator (not supported in the browser yet),\n",
              "// where there are multiple asynchronous steps and the Python side is going\n",
              "// to poll for completion of each step.\n",
              "// This uses a Promise to block the python side on completion of each step,\n",
              "// then passes the result of the previous step as the input to the next step.\n",
              "function _uploadFilesContinue(outputId) {\n",
              "  const outputElement = document.getElementById(outputId);\n",
              "  const steps = outputElement.steps;\n",
              "\n",
              "  const next = steps.next(outputElement.lastPromiseValue);\n",
              "  return Promise.resolve(next.value.promise).then((value) => {\n",
              "    // Cache the last promise value to make it available to the next\n",
              "    // step of the generator.\n",
              "    outputElement.lastPromiseValue = value;\n",
              "    return next.value.response;\n",
              "  });\n",
              "}\n",
              "\n",
              "/**\n",
              " * Generator function which is called between each async step of the upload\n",
              " * process.\n",
              " * @param {string} inputId Element ID of the input file picker element.\n",
              " * @param {string} outputId Element ID of the output display.\n",
              " * @return {!Iterable<!Object>} Iterable of next steps.\n",
              " */\n",
              "function* uploadFilesStep(inputId, outputId) {\n",
              "  const inputElement = document.getElementById(inputId);\n",
              "  inputElement.disabled = false;\n",
              "\n",
              "  const outputElement = document.getElementById(outputId);\n",
              "  outputElement.innerHTML = '';\n",
              "\n",
              "  const pickedPromise = new Promise((resolve) => {\n",
              "    inputElement.addEventListener('change', (e) => {\n",
              "      resolve(e.target.files);\n",
              "    });\n",
              "  });\n",
              "\n",
              "  const cancel = document.createElement('button');\n",
              "  inputElement.parentElement.appendChild(cancel);\n",
              "  cancel.textContent = 'Cancel upload';\n",
              "  const cancelPromise = new Promise((resolve) => {\n",
              "    cancel.onclick = () => {\n",
              "      resolve(null);\n",
              "    };\n",
              "  });\n",
              "\n",
              "  // Wait for the user to pick the files.\n",
              "  const files = yield {\n",
              "    promise: Promise.race([pickedPromise, cancelPromise]),\n",
              "    response: {\n",
              "      action: 'starting',\n",
              "    }\n",
              "  };\n",
              "\n",
              "  cancel.remove();\n",
              "\n",
              "  // Disable the input element since further picks are not allowed.\n",
              "  inputElement.disabled = true;\n",
              "\n",
              "  if (!files) {\n",
              "    return {\n",
              "      response: {\n",
              "        action: 'complete',\n",
              "      }\n",
              "    };\n",
              "  }\n",
              "\n",
              "  for (const file of files) {\n",
              "    const li = document.createElement('li');\n",
              "    li.append(span(file.name, {fontWeight: 'bold'}));\n",
              "    li.append(span(\n",
              "        `(${file.type || 'n/a'}) - ${file.size} bytes, ` +\n",
              "        `last modified: ${\n",
              "            file.lastModifiedDate ? file.lastModifiedDate.toLocaleDateString() :\n",
              "                                    'n/a'} - `));\n",
              "    const percent = span('0% done');\n",
              "    li.appendChild(percent);\n",
              "\n",
              "    outputElement.appendChild(li);\n",
              "\n",
              "    const fileDataPromise = new Promise((resolve) => {\n",
              "      const reader = new FileReader();\n",
              "      reader.onload = (e) => {\n",
              "        resolve(e.target.result);\n",
              "      };\n",
              "      reader.readAsArrayBuffer(file);\n",
              "    });\n",
              "    // Wait for the data to be ready.\n",
              "    let fileData = yield {\n",
              "      promise: fileDataPromise,\n",
              "      response: {\n",
              "        action: 'continue',\n",
              "      }\n",
              "    };\n",
              "\n",
              "    // Use a chunked sending to avoid message size limits. See b/62115660.\n",
              "    let position = 0;\n",
              "    do {\n",
              "      const length = Math.min(fileData.byteLength - position, MAX_PAYLOAD_SIZE);\n",
              "      const chunk = new Uint8Array(fileData, position, length);\n",
              "      position += length;\n",
              "\n",
              "      const base64 = btoa(String.fromCharCode.apply(null, chunk));\n",
              "      yield {\n",
              "        response: {\n",
              "          action: 'append',\n",
              "          file: file.name,\n",
              "          data: base64,\n",
              "        },\n",
              "      };\n",
              "\n",
              "      let percentDone = fileData.byteLength === 0 ?\n",
              "          100 :\n",
              "          Math.round((position / fileData.byteLength) * 100);\n",
              "      percent.textContent = `${percentDone}% done`;\n",
              "\n",
              "    } while (position < fileData.byteLength);\n",
              "  }\n",
              "\n",
              "  // All done.\n",
              "  yield {\n",
              "    response: {\n",
              "      action: 'complete',\n",
              "    }\n",
              "  };\n",
              "}\n",
              "\n",
              "scope.google = scope.google || {};\n",
              "scope.google.colab = scope.google.colab || {};\n",
              "scope.google.colab._files = {\n",
              "  _uploadFiles,\n",
              "  _uploadFilesContinue,\n",
              "};\n",
              "})(self);\n",
              "</script> "
            ]
          },
          "metadata": {}
        },
        {
          "output_type": "stream",
          "name": "stdout",
          "text": [
            "Saving 6113854210798896882.jpg to 6113854210798896882.jpg\n",
            "\n",
            "User mengunggah file \"6113854210798896882.jpg\" (116134 bytes)\n",
            "Hasil prediksi jenis kulit: **oily**\n",
            "Probabilitas:\n",
            "- dry: 0.35\n",
            "- normal: 0.20\n",
            "- oily: 0.46\n"
          ]
        }
      ]
    },
    {
      "cell_type": "code",
      "source": [
        "# UJi COBA 3\n",
        "from google.colab import files\n",
        "import os\n",
        "import cv2\n",
        "from sklearn.preprocessing import LabelEncoder\n",
        "import numpy as np\n",
        "\n",
        "# Pastikan LabelEncoder sudah diinisialisasi dan di-fit dengan semua label yang ada\n",
        "# Lakukan fitting encoder dengan semua label unik dari data pelatihan\n",
        "le = LabelEncoder()\n",
        "le.fit(y_total)\n",
        "\n",
        "print(f\"UPLOAD FOTO ANDA DISINI\")\n",
        "print(f\"UNTUK MENENTUKAN JENIS KULIT: {np.unique(y_total)}\")\n",
        "\n",
        "uploaded = files.upload()\n",
        "\n",
        "for fn in uploaded.keys():\n",
        "    print(f'\\nUser mengunggah file \"{fn}\" ({len(uploaded[fn])} bytes)')\n",
        "\n",
        "    # Simpan file yang diunggah ke lokasi sementara\n",
        "    temp_new_image_path = f\"/tmp/{fn}\"\n",
        "    with open(temp_new_image_path, 'wb') as f:\n",
        "        f.write(uploaded[fn])\n",
        "\n",
        "    # Ekstrak fitur dari foto baru\n",
        "    # Gunakan fungsi yang menerima path sebagai input\n",
        "    new_image_features = ekstrak_fitur_gambar(temp_new_image_path)\n",
        "\n",
        "    # Hapus file sementara\n",
        "    os.remove(temp_new_image_path)\n",
        "\n",
        "    if new_image_features is not None:\n",
        "        # Ubah bentuk fitur agar sesuai dengan input model (1 sampel, banyak fitur)\n",
        "        new_image_features = new_image_features.reshape(1, -1)\n",
        "\n",
        "        # Prediksi label menggunakan model_after (model setelah augmentasi)\n",
        "        # RandomForestClassifier.predict() langsung mengembalikan label kelas yang diprediksi (string)\n",
        "        predicted_label = model_after.predict(new_image_features)[0]  # Ambil satu label prediksi\n",
        "\n",
        "        # Prediksi probabilitas\n",
        "        prediction_probabilities = model_after.predict_proba(new_image_features)[0]\n",
        "\n",
        "        print(f\"Hasil prediksi jenis kulit: **{predicted_label}**\")  # Gunakan label prediksi langsung\n",
        "        print(\"Probabilitas:\")\n",
        "        # Urutkan probabilitas berdasarkan nama kelas agar output konsisten\n",
        "        sorted_classes = sorted(zip(le.classes_, prediction_probabilities), key=lambda x: x[0])\n",
        "        for class_name, prob in sorted_classes:\n",
        "             print(f\"- {class_name}: {prob:.2f}\")\n",
        "\n",
        "    else:\n",
        "        print(f\"Gagal mengekstrak fitur dari foto '{fn}'. Pastikan file adalah gambar yang valid.\")\n"
      ],
      "metadata": {
        "colab": {
          "base_uri": "https://localhost:8080/",
          "height": 229
        },
        "id": "w8c6OBFyGvJN",
        "outputId": "e7d7879b-7aaf-4178-df1e-4d42ff203fcd"
      },
      "execution_count": 16,
      "outputs": [
        {
          "output_type": "stream",
          "name": "stdout",
          "text": [
            "UPLOAD FOTO ANDA DISINI\n",
            "UNTUK MENENTUKAN JENIS KULIT: ['dry' 'normal' 'oily']\n"
          ]
        },
        {
          "output_type": "display_data",
          "data": {
            "text/plain": [
              "<IPython.core.display.HTML object>"
            ],
            "text/html": [
              "\n",
              "     <input type=\"file\" id=\"files-a962d603-a82b-4d83-9396-bdc400e0c90d\" name=\"files[]\" multiple disabled\n",
              "        style=\"border:none\" />\n",
              "     <output id=\"result-a962d603-a82b-4d83-9396-bdc400e0c90d\">\n",
              "      Upload widget is only available when the cell has been executed in the\n",
              "      current browser session. Please rerun this cell to enable.\n",
              "      </output>\n",
              "      <script>// Copyright 2017 Google LLC\n",
              "//\n",
              "// Licensed under the Apache License, Version 2.0 (the \"License\");\n",
              "// you may not use this file except in compliance with the License.\n",
              "// You may obtain a copy of the License at\n",
              "//\n",
              "//      http://www.apache.org/licenses/LICENSE-2.0\n",
              "//\n",
              "// Unless required by applicable law or agreed to in writing, software\n",
              "// distributed under the License is distributed on an \"AS IS\" BASIS,\n",
              "// WITHOUT WARRANTIES OR CONDITIONS OF ANY KIND, either express or implied.\n",
              "// See the License for the specific language governing permissions and\n",
              "// limitations under the License.\n",
              "\n",
              "/**\n",
              " * @fileoverview Helpers for google.colab Python module.\n",
              " */\n",
              "(function(scope) {\n",
              "function span(text, styleAttributes = {}) {\n",
              "  const element = document.createElement('span');\n",
              "  element.textContent = text;\n",
              "  for (const key of Object.keys(styleAttributes)) {\n",
              "    element.style[key] = styleAttributes[key];\n",
              "  }\n",
              "  return element;\n",
              "}\n",
              "\n",
              "// Max number of bytes which will be uploaded at a time.\n",
              "const MAX_PAYLOAD_SIZE = 100 * 1024;\n",
              "\n",
              "function _uploadFiles(inputId, outputId) {\n",
              "  const steps = uploadFilesStep(inputId, outputId);\n",
              "  const outputElement = document.getElementById(outputId);\n",
              "  // Cache steps on the outputElement to make it available for the next call\n",
              "  // to uploadFilesContinue from Python.\n",
              "  outputElement.steps = steps;\n",
              "\n",
              "  return _uploadFilesContinue(outputId);\n",
              "}\n",
              "\n",
              "// This is roughly an async generator (not supported in the browser yet),\n",
              "// where there are multiple asynchronous steps and the Python side is going\n",
              "// to poll for completion of each step.\n",
              "// This uses a Promise to block the python side on completion of each step,\n",
              "// then passes the result of the previous step as the input to the next step.\n",
              "function _uploadFilesContinue(outputId) {\n",
              "  const outputElement = document.getElementById(outputId);\n",
              "  const steps = outputElement.steps;\n",
              "\n",
              "  const next = steps.next(outputElement.lastPromiseValue);\n",
              "  return Promise.resolve(next.value.promise).then((value) => {\n",
              "    // Cache the last promise value to make it available to the next\n",
              "    // step of the generator.\n",
              "    outputElement.lastPromiseValue = value;\n",
              "    return next.value.response;\n",
              "  });\n",
              "}\n",
              "\n",
              "/**\n",
              " * Generator function which is called between each async step of the upload\n",
              " * process.\n",
              " * @param {string} inputId Element ID of the input file picker element.\n",
              " * @param {string} outputId Element ID of the output display.\n",
              " * @return {!Iterable<!Object>} Iterable of next steps.\n",
              " */\n",
              "function* uploadFilesStep(inputId, outputId) {\n",
              "  const inputElement = document.getElementById(inputId);\n",
              "  inputElement.disabled = false;\n",
              "\n",
              "  const outputElement = document.getElementById(outputId);\n",
              "  outputElement.innerHTML = '';\n",
              "\n",
              "  const pickedPromise = new Promise((resolve) => {\n",
              "    inputElement.addEventListener('change', (e) => {\n",
              "      resolve(e.target.files);\n",
              "    });\n",
              "  });\n",
              "\n",
              "  const cancel = document.createElement('button');\n",
              "  inputElement.parentElement.appendChild(cancel);\n",
              "  cancel.textContent = 'Cancel upload';\n",
              "  const cancelPromise = new Promise((resolve) => {\n",
              "    cancel.onclick = () => {\n",
              "      resolve(null);\n",
              "    };\n",
              "  });\n",
              "\n",
              "  // Wait for the user to pick the files.\n",
              "  const files = yield {\n",
              "    promise: Promise.race([pickedPromise, cancelPromise]),\n",
              "    response: {\n",
              "      action: 'starting',\n",
              "    }\n",
              "  };\n",
              "\n",
              "  cancel.remove();\n",
              "\n",
              "  // Disable the input element since further picks are not allowed.\n",
              "  inputElement.disabled = true;\n",
              "\n",
              "  if (!files) {\n",
              "    return {\n",
              "      response: {\n",
              "        action: 'complete',\n",
              "      }\n",
              "    };\n",
              "  }\n",
              "\n",
              "  for (const file of files) {\n",
              "    const li = document.createElement('li');\n",
              "    li.append(span(file.name, {fontWeight: 'bold'}));\n",
              "    li.append(span(\n",
              "        `(${file.type || 'n/a'}) - ${file.size} bytes, ` +\n",
              "        `last modified: ${\n",
              "            file.lastModifiedDate ? file.lastModifiedDate.toLocaleDateString() :\n",
              "                                    'n/a'} - `));\n",
              "    const percent = span('0% done');\n",
              "    li.appendChild(percent);\n",
              "\n",
              "    outputElement.appendChild(li);\n",
              "\n",
              "    const fileDataPromise = new Promise((resolve) => {\n",
              "      const reader = new FileReader();\n",
              "      reader.onload = (e) => {\n",
              "        resolve(e.target.result);\n",
              "      };\n",
              "      reader.readAsArrayBuffer(file);\n",
              "    });\n",
              "    // Wait for the data to be ready.\n",
              "    let fileData = yield {\n",
              "      promise: fileDataPromise,\n",
              "      response: {\n",
              "        action: 'continue',\n",
              "      }\n",
              "    };\n",
              "\n",
              "    // Use a chunked sending to avoid message size limits. See b/62115660.\n",
              "    let position = 0;\n",
              "    do {\n",
              "      const length = Math.min(fileData.byteLength - position, MAX_PAYLOAD_SIZE);\n",
              "      const chunk = new Uint8Array(fileData, position, length);\n",
              "      position += length;\n",
              "\n",
              "      const base64 = btoa(String.fromCharCode.apply(null, chunk));\n",
              "      yield {\n",
              "        response: {\n",
              "          action: 'append',\n",
              "          file: file.name,\n",
              "          data: base64,\n",
              "        },\n",
              "      };\n",
              "\n",
              "      let percentDone = fileData.byteLength === 0 ?\n",
              "          100 :\n",
              "          Math.round((position / fileData.byteLength) * 100);\n",
              "      percent.textContent = `${percentDone}% done`;\n",
              "\n",
              "    } while (position < fileData.byteLength);\n",
              "  }\n",
              "\n",
              "  // All done.\n",
              "  yield {\n",
              "    response: {\n",
              "      action: 'complete',\n",
              "    }\n",
              "  };\n",
              "}\n",
              "\n",
              "scope.google = scope.google || {};\n",
              "scope.google.colab = scope.google.colab || {};\n",
              "scope.google.colab._files = {\n",
              "  _uploadFiles,\n",
              "  _uploadFilesContinue,\n",
              "};\n",
              "})(self);\n",
              "</script> "
            ]
          },
          "metadata": {}
        },
        {
          "output_type": "stream",
          "name": "stdout",
          "text": [
            "Saving WhatsApp Image 2025-08-12 at 16.40.25_c047e2d4.jpg to WhatsApp Image 2025-08-12 at 16.40.25_c047e2d4.jpg\n",
            "\n",
            "User mengunggah file \"WhatsApp Image 2025-08-12 at 16.40.25_c047e2d4.jpg\" (87153 bytes)\n",
            "Hasil prediksi jenis kulit: **oily**\n",
            "Probabilitas:\n",
            "- dry: 0.30\n",
            "- normal: 0.15\n",
            "- oily: 0.55\n"
          ]
        }
      ]
    },
    {
      "cell_type": "markdown",
      "source": [
        "#Mengecek data setelah augmentasi"
      ],
      "metadata": {
        "id": "zNsE_MhaKGUB"
      }
    },
    {
      "cell_type": "code",
      "source": [
        "print(\"Sample of augmented features (X_total):\")\n",
        "print(X_total[:5])\n",
        "print(\"\\nSample of augmented labels (y_total):\")\n",
        "print(y_total[:5])"
      ],
      "metadata": {
        "colab": {
          "base_uri": "https://localhost:8080/"
        },
        "id": "SI9AwF4FHN3P",
        "outputId": "4915f223-7a95-4e0d-cc8d-d0e7282658a6"
      },
      "execution_count": 17,
      "outputs": [
        {
          "output_type": "stream",
          "name": "stdout",
          "text": [
            "Sample of augmented features (X_total):\n",
            "[[3.20937623e+02 1.00546260e+01 2.05341243e-01 ... 0.00000000e+00\n",
            "  0.00000000e+00 0.00000000e+00]\n",
            " [4.16177227e+02 1.20521038e+01 1.44514722e-01 ... 5.92041016e-03\n",
            "  8.78906250e-03 2.49633789e-02]\n",
            " [2.85173351e+02 9.58513780e+00 1.87699578e-01 ... 1.83105469e-03\n",
            "  2.13623047e-03 2.68554688e-03]\n",
            " [3.10841166e+02 8.27214567e+00 3.13089004e-01 ... 0.00000000e+00\n",
            "  0.00000000e+00 0.00000000e+00]\n",
            " [2.04638718e+02 6.53426427e+00 4.05998214e-01 ... 5.67626953e-03\n",
            "  1.33666992e-02 2.70874023e-01]]\n",
            "\n",
            "Sample of augmented labels (y_total):\n",
            "['normal' 'dry' 'dry' 'normal' 'normal']\n"
          ]
        }
      ]
    },
    {
      "cell_type": "code",
      "metadata": {
        "colab": {
          "base_uri": "https://localhost:8080/"
        },
        "id": "2c647fd5",
        "outputId": "fe3c03d9-482d-408b-e4c4-89dc128d91a6"
      },
      "source": [
        "#membuat dataframe setelah augmentasi\n",
        "augmented_df = pd.DataFrame(X_total)\n",
        "augmented_df['Tekstur Kulit'] = y_total\n",
        "\n",
        "# Define the path to save the augmented data\n",
        "augmented_csv_path = \"/content/drive/MyDrive/A Skripsi/CSV/augmented_databaseJBC.csv\"\n",
        "\n",
        "# Simpan DataFrame ke CSV dengan backslash delimiter\n",
        "augmented_df.to_csv(augmented_csv_path, sep='\\\\', index=False)\n",
        "\n",
        "print(f\"Augmented data saved to: {augmented_csv_path}\")"
      ],
      "execution_count": 21,
      "outputs": [
        {
          "output_type": "stream",
          "name": "stdout",
          "text": [
            "Augmented data saved to: /content/drive/MyDrive/A Skripsi/CSV/augmented_databaseJBC.csv\n"
          ]
        }
      ]
    },
    {
      "cell_type": "code",
      "metadata": {
        "colab": {
          "base_uri": "https://localhost:8080/",
          "height": 17
        },
        "id": "6bdf2319",
        "outputId": "8047d243-e58c-4817-91e1-97816fcffb0b"
      },
      "source": [
        "from google.colab import files\n",
        "\n",
        "augmented_csv_path = \"/content/drive/MyDrive/A Skripsi/CSV/augmented_databaseJBC.csv\"\n",
        "files.download(augmented_csv_path)"
      ],
      "execution_count": 26,
      "outputs": [
        {
          "output_type": "display_data",
          "data": {
            "text/plain": [
              "<IPython.core.display.Javascript object>"
            ],
            "application/javascript": [
              "\n",
              "    async function download(id, filename, size) {\n",
              "      if (!google.colab.kernel.accessAllowed) {\n",
              "        return;\n",
              "      }\n",
              "      const div = document.createElement('div');\n",
              "      const label = document.createElement('label');\n",
              "      label.textContent = `Downloading \"${filename}\": `;\n",
              "      div.appendChild(label);\n",
              "      const progress = document.createElement('progress');\n",
              "      progress.max = size;\n",
              "      div.appendChild(progress);\n",
              "      document.body.appendChild(div);\n",
              "\n",
              "      const buffers = [];\n",
              "      let downloaded = 0;\n",
              "\n",
              "      const channel = await google.colab.kernel.comms.open(id);\n",
              "      // Send a message to notify the kernel that we're ready.\n",
              "      channel.send({})\n",
              "\n",
              "      for await (const message of channel.messages) {\n",
              "        // Send a message to notify the kernel that we're ready.\n",
              "        channel.send({})\n",
              "        if (message.buffers) {\n",
              "          for (const buffer of message.buffers) {\n",
              "            buffers.push(buffer);\n",
              "            downloaded += buffer.byteLength;\n",
              "            progress.value = downloaded;\n",
              "          }\n",
              "        }\n",
              "      }\n",
              "      const blob = new Blob(buffers, {type: 'application/binary'});\n",
              "      const a = document.createElement('a');\n",
              "      a.href = window.URL.createObjectURL(blob);\n",
              "      a.download = filename;\n",
              "      div.appendChild(a);\n",
              "      a.click();\n",
              "      div.remove();\n",
              "    }\n",
              "  "
            ]
          },
          "metadata": {}
        },
        {
          "output_type": "display_data",
          "data": {
            "text/plain": [
              "<IPython.core.display.Javascript object>"
            ],
            "application/javascript": [
              "download(\"download_cee6db8d-ef3d-4152-b1cb-dfdd68d62e41\", \"augmented_databaseJBC.csv\", 14729754)"
            ]
          },
          "metadata": {}
        }
      ]
    },
    {
      "cell_type": "code",
      "source": [],
      "metadata": {
        "id": "pnnruhRtK6yB"
      },
      "execution_count": null,
      "outputs": []
    }
  ],
  "metadata": {
    "colab": {
      "provenance": []
    },
    "kernelspec": {
      "display_name": "Python 3",
      "name": "python3"
    }
  },
  "nbformat": 4,
  "nbformat_minor": 0
}